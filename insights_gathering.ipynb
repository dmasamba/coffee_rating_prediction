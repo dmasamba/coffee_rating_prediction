{
 "cells": [
  {
   "cell_type": "code",
   "execution_count": null,
   "id": "842bbea0",
   "metadata": {},
   "outputs": [],
   "source": [
    "import pandas as pd\n",
    "from collections import Counter\n",
    "import matplotlib.pyplot as plt"
   ]
  },
  {
   "cell_type": "code",
   "execution_count": null,
   "id": "288fd1ed",
   "metadata": {},
   "outputs": [],
   "source": [
    "preds = pd.read_csv(\"results/result.csv\")\n",
    "X = pd.read_csv(\"data/X_test.csv\")\n",
    "\n",
    "X[\"prediction\"] = preds[\"prediction\"]"
   ]
  },
  {
   "cell_type": "markdown",
   "id": "3cd47541",
   "metadata": {},
   "source": [
    "## Find and plot the top 5 most frequent notes from the Review column"
   ]
  },
  {
   "cell_type": "code",
   "execution_count": null,
   "id": "4a625a91",
   "metadata": {},
   "outputs": [],
   "source": [
    "rows = []\n",
    "for cls in sorted(X[\"prediction\"].unique()):\n",
    "    counter = Counter()\n",
    "    reviews = X.loc[X[\"prediction\"] == cls, \"review\"].dropna()\n",
    "    for review in reviews:\n",
    "        notes = [note.strip().lower() for note in review.split(\",\")]\n",
    "        counter.update(notes)\n",
    "    for note, cnt in counter.most_common(5):\n",
    "        rows.append({\"class\": cls, \"note\": note, \"count\": cnt})\n",
    "\n",
    "top_notes_df = pd.DataFrame(rows)"
   ]
  },
  {
   "cell_type": "code",
   "execution_count": null,
   "id": "19b7b330",
   "metadata": {},
   "outputs": [],
   "source": [
    "classes = sorted(top_notes_df[\"class\"].unique())\n",
    "fig, axes = plt.subplots(1, len(classes), figsize=(12, 5), sharey=True)\n",
    "\n",
    "for ax, cls in zip(axes, classes):\n",
    "    dfc = top_notes_df[top_notes_df[\"class\"] == cls]\n",
    "    ax.bar(dfc[\"note\"], dfc[\"count\"])\n",
    "    ax.set_title(f\"Top 5 Frequent Notes for Class {cls}\")\n",
    "    ax.set_xlabel(\"Note\")\n",
    "    if ax is axes[0]:\n",
    "        ax.set_ylabel(\"Count\")\n",
    "    ax.tick_params(axis=\"x\", rotation=45)\n",
    "\n",
    "plt.tight_layout()\n",
    "plt.show()"
   ]
  },
  {
   "cell_type": "markdown",
   "id": "1573f277",
   "metadata": {},
   "source": [
    "## Find number of classes from each country"
   ]
  },
  {
   "cell_type": "code",
   "execution_count": null,
   "id": "051e3b3f",
   "metadata": {},
   "outputs": [],
   "source": [
    "counts = X.groupby([\"origin\", \"prediction\"]).size().unstack(fill_value=0)\n",
    "\n",
    "counts[\"total\"] = counts.sum(axis=1)\n",
    "counts = counts.sort_values(by=\"total\", ascending=False)\n",
    "\n",
    "counts.drop(columns=\"total\").plot(\n",
    "    kind=\"bar\",\n",
    "    figsize=(12, 6)\n",
    ")\n",
    "plt.ylabel(\"Number of samples\")\n",
    "plt.title(\"Absolute counts of class 0 vs class 1 by Origin (sorted by total)\")\n",
    "plt.legend(title=\"Class\", loc=\"upper right\")\n",
    "plt.xticks(rotation=45, ha=\"right\")\n",
    "plt.tight_layout()\n",
    "plt.show()"
   ]
  },
  {
   "cell_type": "code",
   "execution_count": null,
   "id": "44406d5f",
   "metadata": {},
   "outputs": [],
   "source": [
    "# 1. Build the custom label: \"[Roaster Name]\"s [Roast Type] ([Country])\"\n",
    "X[\"roaster_label\"] = X.apply(\n",
    "    lambda r: f\"{r[\"roaster\"]}'s \\n {r[\"roast\"]} \\n ({r[\"origin\"]})\",\n",
    "    axis=1\n",
    ")\n",
    "\n",
    "\n",
    "# 2. Compute counts per (roaster_label, prediction)\n",
    "counts = X.groupby(['roaster_label', 'prediction']).size().unstack(fill_value=0)\n",
    "\n",
    "# 3. Select top 5 by class-1 and top 5 by class-0\n",
    "top1 = counts.sort_values(by=1, ascending=False).head(5)\n",
    "top0 = counts.sort_values(by=0, ascending=False).head(5)\n",
    "\n",
    "# 4. Plot side-by-side subplots\n",
    "fig, axes = plt.subplots(1, 2, figsize=(14, 6), sharey=True)\n",
    "\n",
    "# Left: top 5 by class 1\n",
    "top1.plot(kind='bar', ax=axes[0])\n",
    "axes[0].set_title('Top 5 Roasters with Outstanding Roasts')\n",
    "axes[0].set_xlabel('')\n",
    "axes[0].set_ylabel('Number of samples')\n",
    "axes[0].legend(title='Class', loc='upper right')\n",
    "axes[0].tick_params(axis='x', rotation=45)\n",
    "\n",
    "# Right: top 5 by class 0\n",
    "top0.plot(kind='bar', ax=axes[1])\n",
    "axes[1].set_title('Top 5 Roasters with Mid Roasts')\n",
    "axes[1].set_xlabel('')\n",
    "axes[1].legend(title='Class', loc='upper right')\n",
    "axes[1].tick_params(axis='x', rotation=45)\n",
    "\n",
    "plt.tight_layout()\n",
    "plt.show()"
   ]
  }
 ],
 "metadata": {
  "kernelspec": {
   "display_name": ".venv",
   "language": "python",
   "name": "python3"
  },
  "language_info": {
   "codemirror_mode": {
    "name": "ipython",
    "version": 3
   },
   "file_extension": ".py",
   "mimetype": "text/x-python",
   "name": "python",
   "nbconvert_exporter": "python",
   "pygments_lexer": "ipython3",
   "version": "3.13.3"
  }
 },
 "nbformat": 4,
 "nbformat_minor": 5
}
