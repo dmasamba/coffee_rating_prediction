{
 "cells": [
  {
   "cell_type": "code",
   "execution_count": null,
   "id": "842bbea0",
   "metadata": {},
   "outputs": [],
   "source": [
    "import pandas as pd\n",
    "from collections import Counter\n",
    "import matplotlib.pyplot as plt\n",
    "import os"
   ]
  },
  {
   "cell_type": "code",
   "execution_count": null,
   "id": "288fd1ed",
   "metadata": {},
   "outputs": [],
   "source": [
    "preds = pd.read_csv(\"results/result.csv\")\n",
    "X = pd.read_csv(\"data/X_test.csv\")\n",
    "\n",
    "X[\"prediction\"] = preds[\"prediction\"]"
   ]
  },
  {
   "cell_type": "code",
   "execution_count": null,
   "id": "4a625a91",
   "metadata": {},
   "outputs": [],
   "source": [
    "rows = []\n",
    "for cls in sorted(X[\"prediction\"].unique()):\n",
    "    counter = Counter()\n",
    "    reviews = X.loc[X[\"prediction\"] == cls, \"review\"].dropna()\n",
    "    for review in reviews:\n",
    "        notes = [note.strip().lower() for note in review.split(\",\")]\n",
    "        counter.update(notes)\n",
    "    for note, cnt in counter.most_common(5):\n",
    "        rows.append({\"class\": cls, \"note\": note, \"count\": cnt})\n",
    "\n",
    "top_notes_df = pd.DataFrame(rows)"
   ]
  },
  {
   "cell_type": "markdown",
   "id": "3cd47541",
   "metadata": {},
   "source": [
    "## Find and plot the top 5 most frequent notes from the Review column"
   ]
  },
  {
   "cell_type": "code",
   "execution_count": null,
   "id": "19b7b330",
   "metadata": {},
   "outputs": [],
   "source": [
    "classes = sorted(top_notes_df[\"class\"].unique())\n",
    "fig, axes = plt.subplots(1, len(classes), figsize=(12, 5), sharey=True)\n",
    "\n",
    "for ax, cls in zip(axes, classes):\n",
    "    dfc = top_notes_df[top_notes_df[\"class\"] == cls]\n",
    "    ax.bar(dfc[\"note\"], dfc[\"count\"])\n",
    "    ax.set_title(f\"Top 5 Frequent Notes for {'Outstanding' if cls == 1 else 'Average'} Coffee\")\n",
    "    ax.set_xlabel(\"Note\")\n",
    "    if ax is axes[0]:\n",
    "        ax.set_ylabel(\"Count\")\n",
    "    ax.tick_params(axis=\"x\", rotation=45)\n",
    "\n",
    "os.makedirs('insight_plots', exist_ok=True)\n",
    "plt.savefig('insight_plots/review.png', bbox_inches='tight', dpi=300)\n",
    "\n",
    "plt.tight_layout()\n",
    "plt.show()"
   ]
  },
  {
   "cell_type": "markdown",
   "id": "1573f277",
   "metadata": {},
   "source": [
    "## Find number of classes from each country"
   ]
  },
  {
   "cell_type": "code",
   "execution_count": null,
   "id": "051e3b3f",
   "metadata": {},
   "outputs": [],
   "source": [
    "counts = X.groupby([\"origin\", \"prediction\"]).size().unstack(fill_value=0)\n",
    "\n",
    "counts = counts.rename(columns={0: \"Average\", 1: \"Outstanding\"})\n",
    "\n",
    "counts[\"total\"] = counts.sum(axis=1)\n",
    "counts = counts.sort_values(by=\"total\", ascending=False)\n",
    "\n",
    "counts.drop(columns=\"total\").plot(\n",
    "    kind=\"bar\",\n",
    "    figsize=(12, 6)\n",
    ")\n",
    "\n",
    "plt.xlabel(\"Origin\")\n",
    "plt.ylabel(\"Count\")\n",
    "plt.title(\"Number of Outstanding/Average Coffee by Country\")\n",
    "plt.legend(title=\"Class\", loc=\"upper right\")\n",
    "plt.xticks(rotation=45, ha=\"right\")\n",
    "plt.tight_layout()\n",
    "\n",
    "plt.savefig('insight_plots/country.png', bbox_inches='tight', dpi=300)\n",
    "\n",
    "plt.show()"
   ]
  },
  {
   "cell_type": "code",
   "execution_count": null,
   "id": "44406d5f",
   "metadata": {},
   "outputs": [],
   "source": [
    "X[\"roaster_label\"] = X.apply(\n",
    "    lambda r: f\"{r['roaster']}'s \\n {r['roast']} \\n ({r['origin']})\",\n",
    "    axis=1\n",
    ")\n",
    "\n",
    "counts = X.groupby(['roaster_label', 'prediction']).size().unstack(fill_value=0)\n",
    "\n",
    "top1 = counts.sort_values(by=1, ascending=False).head(5)\n",
    "top0 = counts.sort_values(by=0, ascending=False).head(5)\n",
    "\n",
    "top1 = top1.rename(columns={0: 'Average Coffee', 1: 'Outstanding Coffee'})\n",
    "top0 = top0.rename(columns={0: 'Average Coffee', 1: 'Outstanding Coffee'})\n",
    "\n",
    "\n",
    "fig, axes = plt.subplots(1, 2, figsize=(14, 6), sharey=True)\n",
    "\n",
    "top1.plot(kind='bar', ax=axes[0])\n",
    "axes[0].set_title('Top 5 Roasters with Outstanding Roasts')\n",
    "axes[0].set_xlabel('Roaster')\n",
    "axes[0].set_ylabel('Count')\n",
    "axes[0].legend(title='Class', loc='upper right')\n",
    "axes[0].tick_params(axis='x', rotation=45)\n",
    "\n",
    "top0.plot(kind='bar', ax=axes[1])\n",
    "axes[1].set_title('Top 5 Roasters with Average Roasts')\n",
    "axes[1].set_xlabel('Roaster')\n",
    "axes[1].legend(title='Class', loc='upper right')\n",
    "axes[1].tick_params(axis='x', rotation=45)\n",
    "\n",
    "plt.tight_layout()\n",
    "\n",
    "plt.savefig('insight_plots/roasters.png', bbox_inches='tight', dpi=300)\n",
    "\n",
    "plt.show()"
   ]
  },
  {
   "cell_type": "code",
   "execution_count": null,
   "id": "9b09af0e",
   "metadata": {},
   "outputs": [],
   "source": [
    "bins  = [0, 5, 10, 15, 20, 30, 50, 100]\n",
    "labels = ['$0–5','$5–10','$10–15','$15–20','$20–30','$30–50','$50+']\n",
    "\n",
    "X['price_range'] = pd.cut(X['100g_USD'], bins=bins, labels=labels, right=False)\n",
    "\n",
    "counts  = X.groupby(['price_range','prediction']).size().unstack(fill_value=0)\n",
    "percent = counts.div(counts.sum(axis=1), axis=0) * 100\n",
    "\n",
    "percent = percent.rename(columns={0: 'Average Coffee', 1: 'Outstanding Coffee'})\n",
    "\n",
    "ax = percent.plot(\n",
    "    kind='bar',\n",
    "    stacked=True,\n",
    "    figsize=(10, 6)\n",
    ")\n",
    "ax.set_title('Class distribution by Price Range')\n",
    "ax.set_xlabel('Price Range, per 100g USD')\n",
    "ax.set_ylabel('Percentage of Samples')\n",
    "ax.legend(title='Class', loc='upper right')\n",
    "plt.xticks(rotation=45, ha='right')\n",
    "plt.tight_layout()\n",
    "\n",
    "plt.savefig('insight_plots/price.png', bbox_inches='tight', dpi=300)\n",
    "\n",
    "plt.show()"
   ]
  }
 ],
 "metadata": {
  "kernelspec": {
   "display_name": "dan",
   "language": "python",
   "name": "python3"
  },
  "language_info": {
   "codemirror_mode": {
    "name": "ipython",
    "version": 3
   },
   "file_extension": ".py",
   "mimetype": "text/x-python",
   "name": "python",
   "nbconvert_exporter": "python",
   "pygments_lexer": "ipython3",
   "version": "3.11.5"
  }
 },
 "nbformat": 4,
 "nbformat_minor": 5
}
