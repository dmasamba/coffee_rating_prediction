{
 "cells": [
  {
   "cell_type": "code",
   "execution_count": null,
   "id": "029bd8db",
   "metadata": {},
   "outputs": [],
   "source": [
    "import joblib\n",
    "import os\n",
    "import joblib\n",
    "from sklearn.metrics import f1_score, classification_report\n",
    "import pandas as pd"
   ]
  },
  {
   "cell_type": "markdown",
   "id": "eea731c3",
   "metadata": {},
   "source": [
    "## Train and save the latest KNN, Decision Tree, and MLP models "
   ]
  },
  {
   "cell_type": "code",
   "execution_count": null,
   "id": "e08b30fa",
   "metadata": {},
   "outputs": [],
   "source": [
    "%run data_preprocessing.ipynb\n",
    "%run train_evaluate.ipynb"
   ]
  },
  {
   "cell_type": "markdown",
   "id": "514e196f",
   "metadata": {},
   "source": [
    "## Find the model with the best validation F1 score"
   ]
  },
  {
   "cell_type": "code",
   "execution_count": null,
   "id": "15267fe5",
   "metadata": {},
   "outputs": [],
   "source": [
    "best_model = max(model_avg_val_f1, key=model_avg_val_f1.get)\n",
    "print(f\"Best model is the {best_model} model, with an average validation F1 score of {model_avg_val_f1[best_model]}.\")"
   ]
  },
  {
   "cell_type": "markdown",
   "id": "2662d7a5",
   "metadata": {},
   "source": [
    "## Load the best model and run it on the test data"
   ]
  },
  {
   "cell_type": "code",
   "execution_count": null,
   "id": "b310cad6",
   "metadata": {},
   "outputs": [],
   "source": [
    "os.makedirs(\"results\", exist_ok=True)\n",
    "\n",
    "if best_model == \"KNN\" or best_model == \"Decision Tree\":\n",
    "    fname = f\"{best_model.lower().replace(' ', '_')}.pkl\"\n",
    "    path  = os.path.join(\"models\", fname)\n",
    "\n",
    "    # # load it\n",
    "    model = joblib.load(path)\n",
    "\n",
    "    # # run on your test set\n",
    "    y_pred = model.predict(X_test)\n",
    "\n",
    "    pd.DataFrame({\"prediction\": y_pred}) \\\n",
    "      .to_csv(f\"results/result.csv\", index=False)\n",
    "\n",
    "if best_model == \"MLP\":\n",
    "    model = MLP(INPUT_DIM).to(device)\n",
    "    state = torch.load(f\"{save_dir}/MLP.pth\", weights_only=True)\n",
    "    model.load_state_dict(state)\n",
    "    model.eval()\n",
    "\n",
    "    X_tensor = torch.from_numpy(X_test_transformed).float().to(device)\n",
    "    with torch.no_grad():\n",
    "        probs = torch.sigmoid(model(X_tensor)).cpu().numpy()\n",
    "        preds  = (probs > 0.5).astype(int)             # 0/1\n",
    "\n",
    "    pd.DataFrame({\"prediction\": preds}).to_csv(\"results/result.csv\", index=False)\n",
    "    print(\"→ Saved result.csv with\", len(preds), \"rows\")\n"
   ]
  }
 ],
 "metadata": {
  "kernelspec": {
   "display_name": ".venv",
   "language": "python",
   "name": "python3"
  },
  "language_info": {
   "codemirror_mode": {
    "name": "ipython",
    "version": 3
   },
   "file_extension": ".py",
   "mimetype": "text/x-python",
   "name": "python",
   "nbconvert_exporter": "python",
   "pygments_lexer": "ipython3",
   "version": "3.13.3"
  }
 },
 "nbformat": 4,
 "nbformat_minor": 5
}
